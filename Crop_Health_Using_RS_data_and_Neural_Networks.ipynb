{
 "cells": [
  {
   "cell_type": "markdown",
   "id": "388a3f29",
   "metadata": {},
   "source": [
    "# Modeling and Predicting Crop Health Using Remote Sensing Data and Neural Networks"
   ]
  },
  {
   "cell_type": "markdown",
   "id": "ef5c08d8-e2a7-4e37-83b0-bd2767165a43",
   "metadata": {},
   "source": [
    "Azad Rasul: azad.rasul@soran.edu.iq\n",
    "### Introduction\n",
    " This script performs remote sensing data analysis using raster and vector data, focusing on vegetation health assessment.\n",
    " It loads digital elevation models (DEMs) and orthophotos, calculates vegetation indices like NDVI, and classifies plots based on vegetation health.\n",
    " The classification model is a neural network built using TensorFlow, and various metrics are computed to evaluate its performance.\n"
   ]
  },
  {
   "cell_type": "code",
   "execution_count": 1,
   "id": "dd0e2429-2001-42ba-b45b-464b2d32a31e",
   "metadata": {},
   "outputs": [],
   "source": [
    "# Import necessary libraries\n",
    "import numpy as np\n",
    "import pandas as pd\n",
    "import rasterio\n",
    "import geopandas as gpd\n",
    "import matplotlib.pyplot as plt\n",
    "import seaborn as sns\n",
    "from sklearn.model_selection import train_test_split\n",
    "from sklearn.preprocessing import StandardScaler\n",
    "from sklearn.metrics import confusion_matrix, accuracy_score, precision_score, recall_score, f1_score, roc_auc_score\n",
    "import tensorflow as tf\n",
    "from tensorflow.keras.models import Sequential\n",
    "from tensorflow.keras.layers import Dense, Dropout"
   ]
  },
  {
   "cell_type": "markdown",
   "id": "48e6b627-354f-42d9-8a34-a9847c05770f",
   "metadata": {},
   "source": [
    "#### Data Download¶\n",
    "Download the GeoTIFF data from: DroneMapper Crop Analysis Data (https://github.com/dronemapper-io/CropAnalysis)\n",
    "and extract it into the data/ directory of your notebook."
   ]
  },
  {
   "cell_type": "code",
   "execution_count": 2,
   "id": "c9198c02-4a6d-42ef-9673-574585f31ca5",
   "metadata": {},
   "outputs": [],
   "source": [
    "# Load raster data\n",
    "# Load DEM (Digital Elevation Model), orthophoto (multi-band), and DTM (Digital Terrain Model) using rasterio\n",
    "dem = rasterio.open('data/dem.tif')\n",
    "ortho = rasterio.open('data/ortho.tif')\n",
    "dtm = rasterio.open('data/dtm.tif')"
   ]
  },
  {
   "cell_type": "code",
   "execution_count": 3,
   "id": "5161fb06-15f3-435e-91b4-20419bdea35e",
   "metadata": {},
   "outputs": [],
   "source": [
    "# Read arrays from raster data\n",
    "# Read the first band for DEM and DTM, and the first six bands for orthophoto\n",
    "dem_arr = dem.read(1)\n",
    "ortho_arr = ortho.read([1, 2, 3, 4, 5, 6])  # R, G, B, NIR, RedEdge, Thermal\n",
    "dtm_arr = dtm.read(1)"
   ]
  },
  {
   "cell_type": "code",
   "execution_count": 4,
   "id": "eea32d44-6cde-454f-b8d0-1d396ceb5720",
   "metadata": {},
   "outputs": [],
   "source": [
    "# Load vector data\n",
    "# Load shapefiles containing plot data\n",
    "plots_1 = gpd.read_file('data/plots_1.shp')\n",
    "plots_2 = gpd.read_file('data/plots_2.shp')"
   ]
  },
  {
   "cell_type": "code",
   "execution_count": 5,
   "id": "a966fa46-ea6f-4c35-aca3-cf886ea76b8c",
   "metadata": {},
   "outputs": [],
   "source": [
    "# Mask invalid data\n",
    "# Set invalid elevation and thermal values to NaN\n",
    "elevation = np.where(dem_arr <= 0, np.nan, dem_arr)\n",
    "masked_thermal = np.where(ortho_arr[5] <= 0, np.nan, ortho_arr[5] / 100 - 273.15)  # Convert to Celsius"
   ]
  },
  {
   "cell_type": "code",
   "execution_count": 6,
   "id": "7f645f5b-e270-4462-92cb-cc34c0e49e38",
   "metadata": {},
   "outputs": [],
   "source": [
    "# Generate NDVI (Normalized Difference Vegetation Index) with error handling\n",
    "# NDVI = (NIR - Red) / (NIR + Red)\n",
    "with np.errstate(divide='ignore', invalid='ignore'):\n",
    "    ndvi = (ortho_arr[3] - ortho_arr[0]) / (ortho_arr[3] + ortho_arr[0])\n",
    "    ndvi = np.where(np.isnan(ndvi), 0, ndvi)"
   ]
  },
  {
   "cell_type": "code",
   "execution_count": 7,
   "id": "c58bbe8e-3ab4-4430-899d-d84eff7e108f",
   "metadata": {},
   "outputs": [],
   "source": [
    "# Compute zonal statistics for each plot\n",
    "# This function calculates the mean of the raster data within each plot geometry\n",
    "def compute_zonal_stats(plots, data, affine):\n",
    "    import rasterstats as rs\n",
    "    plot_zs = rs.zonal_stats(plots, data, affine=affine, stats=\"mean\", nodata=np.nan, geojson_out=True)\n",
    "    return gpd.GeoDataFrame.from_features(plot_zs)\n",
    "\n",
    "# Calculate mean NDVI, thermal, elevation, and DTM values for each plot\n",
    "plots_1['NDVI_mean'] = compute_zonal_stats(plots_1, ndvi, dem.transform)['mean']\n",
    "plots_1['thermal_mean'] = compute_zonal_stats(plots_1, masked_thermal, dem.transform)['mean']\n",
    "plots_1['elevation_mean'] = compute_zonal_stats(plots_1, elevation, dem.transform)['mean']\n",
    "plots_1['dtm_mean'] = compute_zonal_stats(plots_1, dtm_arr, dem.transform)['mean']"
   ]
  },
  {
   "cell_type": "code",
   "execution_count": 8,
   "id": "cea863df-08e9-41ae-8293-c9dfc560c254",
   "metadata": {},
   "outputs": [],
   "source": [
    "# Data preparation\n",
    "# Drop NaN values and prepare feature matrix for model training\n",
    "plots_1 = plots_1.dropna()\n",
    "features = plots_1[['NDVI_mean', 'thermal_mean', 'elevation_mean', 'dtm_mean']]"
   ]
  },
  {
   "cell_type": "code",
   "execution_count": 9,
   "id": "f5cf55bf-d3c5-42d1-a32b-42741aa8c3ad",
   "metadata": {},
   "outputs": [],
   "source": [
    "# Create a synthetic target variable focusing on healthy crops\n",
    "# Define healthy crops based on NDVI values between 0.4 and 0.8\n",
    "healthy_mask = (plots_1['NDVI_mean'] >= 0.4) & (plots_1['NDVI_mean'] <= 0.8)\n",
    "plots_1['synthetic_target'] = np.where(healthy_mask, 1, 0)  # Healthy crops = 1, Others = 0"
   ]
  },
  {
   "cell_type": "code",
   "execution_count": 10,
   "id": "01f7ca08-7572-4011-802d-2b233f623061",
   "metadata": {},
   "outputs": [
    {
     "name": "stdout",
     "output_type": "stream",
     "text": [
      "Class distribution:\n",
      "synthetic_target\n",
      "0    78\n",
      "1    54\n",
      "Name: count, dtype: int64\n"
     ]
    }
   ],
   "source": [
    "# Check data balance\n",
    "# Print class distribution to check for imbalance\n",
    "class_counts = plots_1['synthetic_target'].value_counts()\n",
    "print(f\"Class distribution:\\n{class_counts}\")\n",
    "\n",
    "# Handle data imbalance by undersampling the majority class\n",
    "from sklearn.utils import resample\n",
    "\n",
    "# Separate majority and minority classes\n",
    "# This variable indicates whether a crop is healthy (1) or not (0).\n",
    "minority_class = plots_1[plots_1['synthetic_target'] == 1]\n",
    "majority_class = plots_1[plots_1['synthetic_target'] == 0]\n",
    "\n",
    "# Resample majority class to match the minority class size\n",
    "majority_class_downsampled = resample(majority_class, \n",
    "                                      replace=False, \n",
    "                                      n_samples=len(minority_class), \n",
    "                                      random_state=42)\n",
    "balanced_data = pd.concat([minority_class, majority_class_downsampled])\n",
    "\n",
    "# Reassign features and target from the balanced data\n",
    "features = balanced_data[['NDVI_mean', 'thermal_mean', 'elevation_mean', 'dtm_mean']]\n",
    "target = balanced_data['synthetic_target']"
   ]
  },
  {
   "cell_type": "code",
   "execution_count": 11,
   "id": "3e92642c-bdf4-4b64-bfe0-3a8d2feb9ab1",
   "metadata": {},
   "outputs": [],
   "source": [
    "# Split data into training and testing sets\n",
    "X_train, X_test, y_train, y_test = train_test_split(features, target, test_size=0.2, random_state=42)"
   ]
  },
  {
   "cell_type": "code",
   "execution_count": 12,
   "id": "d46e26c3-b525-4060-91ac-f9dd3f515839",
   "metadata": {},
   "outputs": [],
   "source": [
    "# Standardize data\n",
    "# Standardize features to have zero mean and unit variance\n",
    "scaler = StandardScaler()\n",
    "X_train = scaler.fit_transform(X_train)\n",
    "X_test = scaler.transform(X_test)"
   ]
  },
  {
   "cell_type": "code",
   "execution_count": 13,
   "id": "24602913-045e-4d8e-8d72-94fa6d31751d",
   "metadata": {},
   "outputs": [
    {
     "name": "stderr",
     "output_type": "stream",
     "text": [
      "C:\\Users\\gardi\\miniconda3\\lib\\site-packages\\keras\\src\\layers\\core\\dense.py:87: UserWarning: Do not pass an `input_shape`/`input_dim` argument to a layer. When using Sequential models, prefer using an `Input(shape)` object as the first layer in the model instead.\n",
      "  super().__init__(activity_regularizer=activity_regularizer, **kwargs)\n"
     ]
    }
   ],
   "source": [
    "# Define the neural network model\n",
    "# The model has three layers: two hidden layers with dropout and an output layer with sigmoid activation for binary classification\n",
    "model = Sequential([\n",
    "    Dense(128, activation='relu', input_shape=(X_train.shape[1],)),\n",
    "    Dropout(0.3),\n",
    "    Dense(64, activation='relu'),\n",
    "    Dropout(0.3),\n",
    "    Dense(1, activation='sigmoid')  # Sigmoid activation function for binary classification\n",
    "])\n"
   ]
  },
  {
   "cell_type": "code",
   "execution_count": 14,
   "id": "2c774ec1-0394-4e1d-8f84-a124c82fc8cf",
   "metadata": {},
   "outputs": [],
   "source": [
    "# Compile the model\n",
    "# Use Adam optimizer and binary crossentropy loss for compilation\n",
    "model.compile(optimizer='adam', loss='binary_crossentropy', metrics=['accuracy'])"
   ]
  },
  {
   "cell_type": "code",
   "execution_count": 15,
   "id": "e04aa8d7-647e-4d84-91a2-1e8780d4a4b6",
   "metadata": {},
   "outputs": [
    {
     "name": "stdout",
     "output_type": "stream",
     "text": [
      "Epoch 1/100\n",
      "\u001b[1m3/3\u001b[0m \u001b[32m━━━━━━━━━━━━━━━━━━━━\u001b[0m\u001b[37m\u001b[0m \u001b[1m5s\u001b[0m 273ms/step - accuracy: 0.5255 - loss: 0.6803 - val_accuracy: 0.5000 - val_loss: 0.5859\n",
      "Epoch 2/100\n",
      "\u001b[1m3/3\u001b[0m \u001b[32m━━━━━━━━━━━━━━━━━━━━\u001b[0m\u001b[37m\u001b[0m \u001b[1m1s\u001b[0m 45ms/step - accuracy: 0.6091 - loss: 0.6049 - val_accuracy: 0.9444 - val_loss: 0.5396\n",
      "Epoch 3/100\n",
      "\u001b[1m3/3\u001b[0m \u001b[32m━━━━━━━━━━━━━━━━━━━━\u001b[0m\u001b[37m\u001b[0m \u001b[1m0s\u001b[0m 46ms/step - accuracy: 0.7314 - loss: 0.5460 - val_accuracy: 0.9444 - val_loss: 0.4988\n",
      "Epoch 4/100\n",
      "\u001b[1m3/3\u001b[0m \u001b[32m━━━━━━━━━━━━━━━━━━━━\u001b[0m\u001b[37m\u001b[0m \u001b[1m1s\u001b[0m 165ms/step - accuracy: 0.6923 - loss: 0.5376 - val_accuracy: 1.0000 - val_loss: 0.4602\n",
      "Epoch 5/100\n",
      "\u001b[1m3/3\u001b[0m \u001b[32m━━━━━━━━━━━━━━━━━━━━\u001b[0m\u001b[37m\u001b[0m \u001b[1m0s\u001b[0m 63ms/step - accuracy: 0.7725 - loss: 0.4785 - val_accuracy: 1.0000 - val_loss: 0.4236\n",
      "Epoch 6/100\n",
      "\u001b[1m3/3\u001b[0m \u001b[32m━━━━━━━━━━━━━━━━━━━━\u001b[0m\u001b[37m\u001b[0m \u001b[1m1s\u001b[0m 258ms/step - accuracy: 0.9095 - loss: 0.4291 - val_accuracy: 1.0000 - val_loss: 0.3906\n",
      "Epoch 7/100\n",
      "\u001b[1m3/3\u001b[0m \u001b[32m━━━━━━━━━━━━━━━━━━━━\u001b[0m\u001b[37m\u001b[0m \u001b[1m1s\u001b[0m 122ms/step - accuracy: 0.9511 - loss: 0.4099 - val_accuracy: 1.0000 - val_loss: 0.3618\n",
      "Epoch 8/100\n",
      "\u001b[1m3/3\u001b[0m \u001b[32m━━━━━━━━━━━━━━━━━━━━\u001b[0m\u001b[37m\u001b[0m \u001b[1m1s\u001b[0m 45ms/step - accuracy: 0.9203 - loss: 0.3832 - val_accuracy: 1.0000 - val_loss: 0.3354\n",
      "Epoch 9/100\n",
      "\u001b[1m3/3\u001b[0m \u001b[32m━━━━━━━━━━━━━━━━━━━━\u001b[0m\u001b[37m\u001b[0m \u001b[1m0s\u001b[0m 80ms/step - accuracy: 0.9090 - loss: 0.3709 - val_accuracy: 1.0000 - val_loss: 0.3106\n",
      "Epoch 10/100\n",
      "\u001b[1m3/3\u001b[0m \u001b[32m━━━━━━━━━━━━━━━━━━━━\u001b[0m\u001b[37m\u001b[0m \u001b[1m0s\u001b[0m 59ms/step - accuracy: 0.9203 - loss: 0.3169 - val_accuracy: 1.0000 - val_loss: 0.2870\n",
      "Epoch 11/100\n",
      "\u001b[1m3/3\u001b[0m \u001b[32m━━━━━━━━━━━━━━━━━━━━\u001b[0m\u001b[37m\u001b[0m \u001b[1m0s\u001b[0m 50ms/step - accuracy: 0.9281 - loss: 0.3036 - val_accuracy: 1.0000 - val_loss: 0.2652\n",
      "Epoch 12/100\n",
      "\u001b[1m3/3\u001b[0m \u001b[32m━━━━━━━━━━━━━━━━━━━━\u001b[0m\u001b[37m\u001b[0m \u001b[1m0s\u001b[0m 56ms/step - accuracy: 0.9046 - loss: 0.2987 - val_accuracy: 1.0000 - val_loss: 0.2452\n",
      "Epoch 13/100\n",
      "\u001b[1m3/3\u001b[0m \u001b[32m━━━━━━━━━━━━━━━━━━━━\u001b[0m\u001b[37m\u001b[0m \u001b[1m0s\u001b[0m 72ms/step - accuracy: 0.9237 - loss: 0.2862 - val_accuracy: 1.0000 - val_loss: 0.2267\n",
      "Epoch 14/100\n",
      "\u001b[1m3/3\u001b[0m \u001b[32m━━━━━━━━━━━━━━━━━━━━\u001b[0m\u001b[37m\u001b[0m \u001b[1m0s\u001b[0m 49ms/step - accuracy: 0.9359 - loss: 0.2682 - val_accuracy: 1.0000 - val_loss: 0.2098\n",
      "Epoch 15/100\n",
      "\u001b[1m3/3\u001b[0m \u001b[32m━━━━━━━━━━━━━━━━━━━━\u001b[0m\u001b[37m\u001b[0m \u001b[1m0s\u001b[0m 189ms/step - accuracy: 0.9472 - loss: 0.2348 - val_accuracy: 1.0000 - val_loss: 0.1938\n",
      "Epoch 16/100\n",
      "\u001b[1m3/3\u001b[0m \u001b[32m━━━━━━━━━━━━━━━━━━━━\u001b[0m\u001b[37m\u001b[0m \u001b[1m1s\u001b[0m 89ms/step - accuracy: 0.9012 - loss: 0.2476 - val_accuracy: 1.0000 - val_loss: 0.1784\n",
      "Epoch 17/100\n",
      "\u001b[1m3/3\u001b[0m \u001b[32m━━━━━━━━━━━━━━━━━━━━\u001b[0m\u001b[37m\u001b[0m \u001b[1m0s\u001b[0m 78ms/step - accuracy: 0.9472 - loss: 0.2254 - val_accuracy: 1.0000 - val_loss: 0.1639\n",
      "Epoch 18/100\n",
      "\u001b[1m3/3\u001b[0m \u001b[32m━━━━━━━━━━━━━━━━━━━━\u001b[0m\u001b[37m\u001b[0m \u001b[1m0s\u001b[0m 91ms/step - accuracy: 0.9203 - loss: 0.2238 - val_accuracy: 1.0000 - val_loss: 0.1520\n",
      "Epoch 19/100\n",
      "\u001b[1m3/3\u001b[0m \u001b[32m━━━━━━━━━━━━━━━━━━━━\u001b[0m\u001b[37m\u001b[0m \u001b[1m0s\u001b[0m 57ms/step - accuracy: 0.9090 - loss: 0.2401 - val_accuracy: 1.0000 - val_loss: 0.1431\n",
      "Epoch 20/100\n",
      "\u001b[1m3/3\u001b[0m \u001b[32m━━━━━━━━━━━━━━━━━━━━\u001b[0m\u001b[37m\u001b[0m \u001b[1m0s\u001b[0m 140ms/step - accuracy: 0.9315 - loss: 0.2112 - val_accuracy: 1.0000 - val_loss: 0.1359\n",
      "Epoch 21/100\n",
      "\u001b[1m3/3\u001b[0m \u001b[32m━━━━━━━━━━━━━━━━━━━━\u001b[0m\u001b[37m\u001b[0m \u001b[1m1s\u001b[0m 61ms/step - accuracy: 0.9515 - loss: 0.1701 - val_accuracy: 1.0000 - val_loss: 0.1302\n",
      "Epoch 22/100\n",
      "\u001b[1m3/3\u001b[0m \u001b[32m━━━━━━━━━━━━━━━━━━━━\u001b[0m\u001b[37m\u001b[0m \u001b[1m0s\u001b[0m 68ms/step - accuracy: 0.9324 - loss: 0.1736 - val_accuracy: 1.0000 - val_loss: 0.1269\n",
      "Epoch 23/100\n",
      "\u001b[1m3/3\u001b[0m \u001b[32m━━━━━━━━━━━━━━━━━━━━\u001b[0m\u001b[37m\u001b[0m \u001b[1m0s\u001b[0m 61ms/step - accuracy: 0.9472 - loss: 0.2092 - val_accuracy: 1.0000 - val_loss: 0.1232\n",
      "Epoch 24/100\n",
      "\u001b[1m3/3\u001b[0m \u001b[32m━━━━━━━━━━━━━━━━━━━━\u001b[0m\u001b[37m\u001b[0m \u001b[1m0s\u001b[0m 62ms/step - accuracy: 0.8973 - loss: 0.1954 - val_accuracy: 1.0000 - val_loss: 0.1184\n",
      "Epoch 25/100\n",
      "\u001b[1m3/3\u001b[0m \u001b[32m━━━━━━━━━━━━━━━━━━━━\u001b[0m\u001b[37m\u001b[0m \u001b[1m0s\u001b[0m 61ms/step - accuracy: 0.9281 - loss: 0.1725 - val_accuracy: 1.0000 - val_loss: 0.1123\n",
      "Epoch 26/100\n",
      "\u001b[1m3/3\u001b[0m \u001b[32m━━━━━━━━━━━━━━━━━━━━\u001b[0m\u001b[37m\u001b[0m \u001b[1m0s\u001b[0m 46ms/step - accuracy: 0.9315 - loss: 0.1959 - val_accuracy: 1.0000 - val_loss: 0.1070\n",
      "Epoch 27/100\n",
      "\u001b[1m3/3\u001b[0m \u001b[32m━━━━━━━━━━━━━━━━━━━━\u001b[0m\u001b[37m\u001b[0m \u001b[1m0s\u001b[0m 43ms/step - accuracy: 0.9203 - loss: 0.1927 - val_accuracy: 1.0000 - val_loss: 0.1021\n",
      "Epoch 28/100\n",
      "\u001b[1m3/3\u001b[0m \u001b[32m━━━━━━━━━━━━━━━━━━━━\u001b[0m\u001b[37m\u001b[0m \u001b[1m0s\u001b[0m 40ms/step - accuracy: 0.9125 - loss: 0.1985 - val_accuracy: 1.0000 - val_loss: 0.0979\n",
      "Epoch 29/100\n",
      "\u001b[1m3/3\u001b[0m \u001b[32m━━━━━━━━━━━━━━━━━━━━\u001b[0m\u001b[37m\u001b[0m \u001b[1m0s\u001b[0m 65ms/step - accuracy: 0.9203 - loss: 0.1700 - val_accuracy: 1.0000 - val_loss: 0.0940\n",
      "Epoch 30/100\n",
      "\u001b[1m3/3\u001b[0m \u001b[32m━━━━━━━━━━━━━━━━━━━━\u001b[0m\u001b[37m\u001b[0m \u001b[1m0s\u001b[0m 56ms/step - accuracy: 0.9619 - loss: 0.1722 - val_accuracy: 1.0000 - val_loss: 0.0902\n",
      "Epoch 31/100\n",
      "\u001b[1m3/3\u001b[0m \u001b[32m━━━━━━━━━━━━━━━━━━━━\u001b[0m\u001b[37m\u001b[0m \u001b[1m0s\u001b[0m 61ms/step - accuracy: 0.9506 - loss: 0.1570 - val_accuracy: 1.0000 - val_loss: 0.0851\n",
      "Epoch 32/100\n",
      "\u001b[1m3/3\u001b[0m \u001b[32m━━━━━━━━━━━━━━━━━━━━\u001b[0m\u001b[37m\u001b[0m \u001b[1m0s\u001b[0m 81ms/step - accuracy: 0.9697 - loss: 0.1523 - val_accuracy: 1.0000 - val_loss: 0.0799\n",
      "Epoch 33/100\n",
      "\u001b[1m3/3\u001b[0m \u001b[32m━━━━━━━━━━━━━━━━━━━━\u001b[0m\u001b[37m\u001b[0m \u001b[1m1s\u001b[0m 63ms/step - accuracy: 0.9393 - loss: 0.1732 - val_accuracy: 1.0000 - val_loss: 0.0763\n",
      "Epoch 34/100\n",
      "\u001b[1m3/3\u001b[0m \u001b[32m━━━━━━━━━━━━━━━━━━━━\u001b[0m\u001b[37m\u001b[0m \u001b[1m1s\u001b[0m 149ms/step - accuracy: 0.9472 - loss: 0.1351 - val_accuracy: 1.0000 - val_loss: 0.0736\n",
      "Epoch 35/100\n",
      "\u001b[1m3/3\u001b[0m \u001b[32m━━━━━━━━━━━━━━━━━━━━\u001b[0m\u001b[37m\u001b[0m \u001b[1m0s\u001b[0m 54ms/step - accuracy: 0.9320 - loss: 0.1465 - val_accuracy: 1.0000 - val_loss: 0.0733\n",
      "Epoch 36/100\n",
      "\u001b[1m3/3\u001b[0m \u001b[32m━━━━━━━━━━━━━━━━━━━━\u001b[0m\u001b[37m\u001b[0m \u001b[1m0s\u001b[0m 61ms/step - accuracy: 0.9315 - loss: 0.1609 - val_accuracy: 1.0000 - val_loss: 0.0735\n",
      "Epoch 37/100\n",
      "\u001b[1m3/3\u001b[0m \u001b[32m━━━━━━━━━━━━━━━━━━━━\u001b[0m\u001b[37m\u001b[0m \u001b[1m0s\u001b[0m 66ms/step - accuracy: 0.9506 - loss: 0.1413 - val_accuracy: 1.0000 - val_loss: 0.0723\n",
      "Epoch 38/100\n",
      "\u001b[1m3/3\u001b[0m \u001b[32m━━━━━━━━━━━━━━━━━━━━\u001b[0m\u001b[37m\u001b[0m \u001b[1m0s\u001b[0m 60ms/step - accuracy: 0.9506 - loss: 0.1270 - val_accuracy: 1.0000 - val_loss: 0.0697\n",
      "Epoch 39/100\n",
      "\u001b[1m3/3\u001b[0m \u001b[32m━━━━━━━━━━━━━━━━━━━━\u001b[0m\u001b[37m\u001b[0m \u001b[1m0s\u001b[0m 94ms/step - accuracy: 0.9281 - loss: 0.1585 - val_accuracy: 1.0000 - val_loss: 0.0678\n",
      "Epoch 40/100\n",
      "\u001b[1m3/3\u001b[0m \u001b[32m━━━━━━━━━━━━━━━━━━━━\u001b[0m\u001b[37m\u001b[0m \u001b[1m0s\u001b[0m 61ms/step - accuracy: 0.9619 - loss: 0.1656 - val_accuracy: 1.0000 - val_loss: 0.0662\n",
      "Epoch 41/100\n",
      "\u001b[1m3/3\u001b[0m \u001b[32m━━━━━━━━━━━━━━━━━━━━\u001b[0m\u001b[37m\u001b[0m \u001b[1m0s\u001b[0m 53ms/step - accuracy: 0.9359 - loss: 0.1304 - val_accuracy: 1.0000 - val_loss: 0.0652\n",
      "Epoch 42/100\n",
      "\u001b[1m3/3\u001b[0m \u001b[32m━━━━━━━━━━━━━━━━━━━━\u001b[0m\u001b[37m\u001b[0m \u001b[1m0s\u001b[0m 47ms/step - accuracy: 0.9393 - loss: 0.1542 - val_accuracy: 1.0000 - val_loss: 0.0623\n",
      "Epoch 43/100\n",
      "\u001b[1m3/3\u001b[0m \u001b[32m━━━━━━━━━━━━━━━━━━━━\u001b[0m\u001b[37m\u001b[0m \u001b[1m0s\u001b[0m 46ms/step - accuracy: 0.9393 - loss: 0.1263 - val_accuracy: 1.0000 - val_loss: 0.0574\n",
      "Epoch 44/100\n",
      "\u001b[1m3/3\u001b[0m \u001b[32m━━━━━━━━━━━━━━━━━━━━\u001b[0m\u001b[37m\u001b[0m \u001b[1m0s\u001b[0m 43ms/step - accuracy: 0.9242 - loss: 0.1589 - val_accuracy: 1.0000 - val_loss: 0.0537\n",
      "Epoch 45/100\n",
      "\u001b[1m3/3\u001b[0m \u001b[32m━━━━━━━━━━━━━━━━━━━━\u001b[0m\u001b[37m\u001b[0m \u001b[1m0s\u001b[0m 65ms/step - accuracy: 0.9506 - loss: 0.1359 - val_accuracy: 1.0000 - val_loss: 0.0497\n",
      "Epoch 46/100\n",
      "\u001b[1m3/3\u001b[0m \u001b[32m━━━━━━━━━━━━━━━━━━━━\u001b[0m\u001b[37m\u001b[0m \u001b[1m0s\u001b[0m 69ms/step - accuracy: 0.9472 - loss: 0.1253 - val_accuracy: 1.0000 - val_loss: 0.0473\n",
      "Epoch 47/100\n",
      "\u001b[1m3/3\u001b[0m \u001b[32m━━━━━━━━━━━━━━━━━━━━\u001b[0m\u001b[37m\u001b[0m \u001b[1m0s\u001b[0m 80ms/step - accuracy: 0.9697 - loss: 0.1207 - val_accuracy: 1.0000 - val_loss: 0.0454\n",
      "Epoch 48/100\n",
      "\u001b[1m3/3\u001b[0m \u001b[32m━━━━━━━━━━━━━━━━━━━━\u001b[0m\u001b[37m\u001b[0m \u001b[1m0s\u001b[0m 68ms/step - accuracy: 0.9619 - loss: 0.1333 - val_accuracy: 1.0000 - val_loss: 0.0440\n",
      "Epoch 49/100\n",
      "\u001b[1m3/3\u001b[0m \u001b[32m━━━━━━━━━━━━━━━━━━━━\u001b[0m\u001b[37m\u001b[0m \u001b[1m0s\u001b[0m 65ms/step - accuracy: 0.9393 - loss: 0.1395 - val_accuracy: 1.0000 - val_loss: 0.0432\n",
      "Epoch 50/100\n",
      "\u001b[1m3/3\u001b[0m \u001b[32m━━━━━━━━━━━━━━━━━━━━\u001b[0m\u001b[37m\u001b[0m \u001b[1m0s\u001b[0m 58ms/step - accuracy: 0.9584 - loss: 0.1127 - val_accuracy: 1.0000 - val_loss: 0.0434\n",
      "Epoch 51/100\n",
      "\u001b[1m3/3\u001b[0m \u001b[32m━━━━━━━━━━━━━━━━━━━━\u001b[0m\u001b[37m\u001b[0m \u001b[1m0s\u001b[0m 53ms/step - accuracy: 0.9315 - loss: 0.1268 - val_accuracy: 1.0000 - val_loss: 0.0440\n",
      "Epoch 52/100\n",
      "\u001b[1m3/3\u001b[0m \u001b[32m━━━━━━━━━━━━━━━━━━━━\u001b[0m\u001b[37m\u001b[0m \u001b[1m0s\u001b[0m 62ms/step - accuracy: 0.9203 - loss: 0.1486 - val_accuracy: 1.0000 - val_loss: 0.0436\n",
      "Epoch 53/100\n",
      "\u001b[1m3/3\u001b[0m \u001b[32m━━━━━━━━━━━━━━━━━━━━\u001b[0m\u001b[37m\u001b[0m \u001b[1m0s\u001b[0m 58ms/step - accuracy: 0.9472 - loss: 0.1281 - val_accuracy: 1.0000 - val_loss: 0.0424\n",
      "Epoch 54/100\n",
      "\u001b[1m3/3\u001b[0m \u001b[32m━━━━━━━━━━━━━━━━━━━━\u001b[0m\u001b[37m\u001b[0m \u001b[1m0s\u001b[0m 51ms/step - accuracy: 0.9584 - loss: 0.1090 - val_accuracy: 1.0000 - val_loss: 0.0408\n",
      "Epoch 55/100\n",
      "\u001b[1m3/3\u001b[0m \u001b[32m━━━━━━━━━━━━━━━━━━━━\u001b[0m\u001b[37m\u001b[0m \u001b[1m0s\u001b[0m 56ms/step - accuracy: 0.9393 - loss: 0.1198 - val_accuracy: 1.0000 - val_loss: 0.0393\n",
      "Epoch 56/100\n",
      "\u001b[1m3/3\u001b[0m \u001b[32m━━━━━━━━━━━━━━━━━━━━\u001b[0m\u001b[37m\u001b[0m \u001b[1m1s\u001b[0m 173ms/step - accuracy: 0.9203 - loss: 0.1201 - val_accuracy: 1.0000 - val_loss: 0.0373\n",
      "Epoch 57/100\n",
      "\u001b[1m3/3\u001b[0m \u001b[32m━━━━━━━━━━━━━━━━━━━━\u001b[0m\u001b[37m\u001b[0m \u001b[1m0s\u001b[0m 47ms/step - accuracy: 0.9203 - loss: 0.1201 - val_accuracy: 1.0000 - val_loss: 0.0355\n",
      "Epoch 58/100\n",
      "\u001b[1m3/3\u001b[0m \u001b[32m━━━━━━━━━━━━━━━━━━━━\u001b[0m\u001b[37m\u001b[0m \u001b[1m0s\u001b[0m 37ms/step - accuracy: 0.8934 - loss: 0.1572 - val_accuracy: 1.0000 - val_loss: 0.0340\n",
      "Epoch 59/100\n",
      "\u001b[1m3/3\u001b[0m \u001b[32m━━━━━━━━━━━━━━━━━━━━\u001b[0m\u001b[37m\u001b[0m \u001b[1m0s\u001b[0m 46ms/step - accuracy: 0.9584 - loss: 0.1354 - val_accuracy: 1.0000 - val_loss: 0.0327\n",
      "Epoch 60/100\n",
      "\u001b[1m3/3\u001b[0m \u001b[32m━━━━━━━━━━━━━━━━━━━━\u001b[0m\u001b[37m\u001b[0m \u001b[1m0s\u001b[0m 39ms/step - accuracy: 0.9393 - loss: 0.1130 - val_accuracy: 1.0000 - val_loss: 0.0308\n",
      "Epoch 61/100\n",
      "\u001b[1m3/3\u001b[0m \u001b[32m━━━━━━━━━━━━━━━━━━━━\u001b[0m\u001b[37m\u001b[0m \u001b[1m0s\u001b[0m 59ms/step - accuracy: 0.9589 - loss: 0.1005 - val_accuracy: 1.0000 - val_loss: 0.0297\n",
      "Epoch 62/100\n",
      "\u001b[1m3/3\u001b[0m \u001b[32m━━━━━━━━━━━━━━━━━━━━\u001b[0m\u001b[37m\u001b[0m \u001b[1m0s\u001b[0m 53ms/step - accuracy: 0.9506 - loss: 0.1193 - val_accuracy: 1.0000 - val_loss: 0.0290\n",
      "Epoch 63/100\n",
      "\u001b[1m3/3\u001b[0m \u001b[32m━━━━━━━━━━━━━━━━━━━━\u001b[0m\u001b[37m\u001b[0m \u001b[1m0s\u001b[0m 57ms/step - accuracy: 0.9506 - loss: 0.1111 - val_accuracy: 1.0000 - val_loss: 0.0284\n",
      "Epoch 64/100\n",
      "\u001b[1m3/3\u001b[0m \u001b[32m━━━━━━━━━━━━━━━━━━━━\u001b[0m\u001b[37m\u001b[0m \u001b[1m0s\u001b[0m 60ms/step - accuracy: 0.9393 - loss: 0.1114 - val_accuracy: 1.0000 - val_loss: 0.0279\n",
      "Epoch 65/100\n",
      "\u001b[1m3/3\u001b[0m \u001b[32m━━━━━━━━━━━━━━━━━━━━\u001b[0m\u001b[37m\u001b[0m \u001b[1m0s\u001b[0m 56ms/step - accuracy: 0.9506 - loss: 0.1219 - val_accuracy: 1.0000 - val_loss: 0.0284\n",
      "Epoch 66/100\n",
      "\u001b[1m3/3\u001b[0m \u001b[32m━━━━━━━━━━━━━━━━━━━━\u001b[0m\u001b[37m\u001b[0m \u001b[1m0s\u001b[0m 55ms/step - accuracy: 0.9315 - loss: 0.1067 - val_accuracy: 1.0000 - val_loss: 0.0290\n",
      "Epoch 67/100\n",
      "\u001b[1m3/3\u001b[0m \u001b[32m━━━━━━━━━━━━━━━━━━━━\u001b[0m\u001b[37m\u001b[0m \u001b[1m0s\u001b[0m 67ms/step - accuracy: 0.9315 - loss: 0.1490 - val_accuracy: 1.0000 - val_loss: 0.0289\n",
      "Epoch 68/100\n",
      "\u001b[1m3/3\u001b[0m \u001b[32m━━━━━━━━━━━━━━━━━━━━\u001b[0m\u001b[37m\u001b[0m \u001b[1m0s\u001b[0m 48ms/step - accuracy: 0.9432 - loss: 0.1057 - val_accuracy: 1.0000 - val_loss: 0.0292\n",
      "Epoch 69/100\n",
      "\u001b[1m3/3\u001b[0m \u001b[32m━━━━━━━━━━━━━━━━━━━━\u001b[0m\u001b[37m\u001b[0m \u001b[1m0s\u001b[0m 51ms/step - accuracy: 0.9354 - loss: 0.1120 - val_accuracy: 1.0000 - val_loss: 0.0317\n",
      "Epoch 70/100\n",
      "\u001b[1m3/3\u001b[0m \u001b[32m━━━━━━━━━━━━━━━━━━━━\u001b[0m\u001b[37m\u001b[0m \u001b[1m0s\u001b[0m 47ms/step - accuracy: 0.9315 - loss: 0.1188 - val_accuracy: 1.0000 - val_loss: 0.0355\n",
      "Epoch 71/100\n",
      "\u001b[1m3/3\u001b[0m \u001b[32m━━━━━━━━━━━━━━━━━━━━\u001b[0m\u001b[37m\u001b[0m \u001b[1m0s\u001b[0m 49ms/step - accuracy: 0.9511 - loss: 0.1369 - val_accuracy: 1.0000 - val_loss: 0.0371\n",
      "Epoch 72/100\n",
      "\u001b[1m3/3\u001b[0m \u001b[32m━━━━━━━━━━━━━━━━━━━━\u001b[0m\u001b[37m\u001b[0m \u001b[1m0s\u001b[0m 46ms/step - accuracy: 0.9428 - loss: 0.1256 - val_accuracy: 1.0000 - val_loss: 0.0346\n",
      "Epoch 73/100\n",
      "\u001b[1m3/3\u001b[0m \u001b[32m━━━━━━━━━━━━━━━━━━━━\u001b[0m\u001b[37m\u001b[0m \u001b[1m0s\u001b[0m 43ms/step - accuracy: 0.9432 - loss: 0.1074 - val_accuracy: 1.0000 - val_loss: 0.0323\n",
      "Epoch 74/100\n",
      "\u001b[1m3/3\u001b[0m \u001b[32m━━━━━━━━━━━━━━━━━━━━\u001b[0m\u001b[37m\u001b[0m \u001b[1m1s\u001b[0m 88ms/step - accuracy: 0.9393 - loss: 0.0943 - val_accuracy: 1.0000 - val_loss: 0.0302\n",
      "Epoch 75/100\n",
      "\u001b[1m3/3\u001b[0m \u001b[32m━━━━━━━━━━━━━━━━━━━━\u001b[0m\u001b[37m\u001b[0m \u001b[1m0s\u001b[0m 55ms/step - accuracy: 0.9584 - loss: 0.0833 - val_accuracy: 1.0000 - val_loss: 0.0290\n",
      "Epoch 76/100\n",
      "\u001b[1m3/3\u001b[0m \u001b[32m━━━━━━━━━━━━━━━━━━━━\u001b[0m\u001b[37m\u001b[0m \u001b[1m0s\u001b[0m 59ms/step - accuracy: 0.9506 - loss: 0.1150 - val_accuracy: 1.0000 - val_loss: 0.0283\n",
      "Epoch 77/100\n",
      "\u001b[1m3/3\u001b[0m \u001b[32m━━━━━━━━━━━━━━━━━━━━\u001b[0m\u001b[37m\u001b[0m \u001b[1m0s\u001b[0m 58ms/step - accuracy: 1.0000 - loss: 0.0549 - val_accuracy: 1.0000 - val_loss: 0.0275\n",
      "Epoch 78/100\n",
      "\u001b[1m3/3\u001b[0m \u001b[32m━━━━━━━━━━━━━━━━━━━━\u001b[0m\u001b[37m\u001b[0m \u001b[1m0s\u001b[0m 64ms/step - accuracy: 0.9237 - loss: 0.1122 - val_accuracy: 1.0000 - val_loss: 0.0275\n",
      "Epoch 79/100\n",
      "\u001b[1m3/3\u001b[0m \u001b[32m━━━━━━━━━━━━━━━━━━━━\u001b[0m\u001b[37m\u001b[0m \u001b[1m0s\u001b[0m 59ms/step - accuracy: 0.9619 - loss: 0.0965 - val_accuracy: 1.0000 - val_loss: 0.0278\n",
      "Epoch 80/100\n",
      "\u001b[1m3/3\u001b[0m \u001b[32m━━━━━━━━━━━━━━━━━━━━\u001b[0m\u001b[37m\u001b[0m \u001b[1m0s\u001b[0m 67ms/step - accuracy: 0.9809 - loss: 0.0801 - val_accuracy: 1.0000 - val_loss: 0.0287\n",
      "Epoch 81/100\n",
      "\u001b[1m3/3\u001b[0m \u001b[32m━━━━━━━━━━━━━━━━━━━━\u001b[0m\u001b[37m\u001b[0m \u001b[1m0s\u001b[0m 67ms/step - accuracy: 0.9775 - loss: 0.0849 - val_accuracy: 1.0000 - val_loss: 0.0301\n",
      "Epoch 82/100\n",
      "\u001b[1m3/3\u001b[0m \u001b[32m━━━━━━━━━━━━━━━━━━━━\u001b[0m\u001b[37m\u001b[0m \u001b[1m0s\u001b[0m 47ms/step - accuracy: 0.9432 - loss: 0.0963 - val_accuracy: 1.0000 - val_loss: 0.0301\n",
      "Epoch 83/100\n",
      "\u001b[1m3/3\u001b[0m \u001b[32m━━━━━━━━━━━━━━━━━━━━\u001b[0m\u001b[37m\u001b[0m \u001b[1m0s\u001b[0m 43ms/step - accuracy: 0.9623 - loss: 0.0919 - val_accuracy: 1.0000 - val_loss: 0.0273\n",
      "Epoch 84/100\n",
      "\u001b[1m3/3\u001b[0m \u001b[32m━━━━━━━━━━━━━━━━━━━━\u001b[0m\u001b[37m\u001b[0m \u001b[1m0s\u001b[0m 66ms/step - accuracy: 0.9506 - loss: 0.1110 - val_accuracy: 1.0000 - val_loss: 0.0244\n",
      "Epoch 85/100\n",
      "\u001b[1m3/3\u001b[0m \u001b[32m━━━━━━━━━━━━━━━━━━━━\u001b[0m\u001b[37m\u001b[0m \u001b[1m0s\u001b[0m 56ms/step - accuracy: 0.9428 - loss: 0.1065 - val_accuracy: 1.0000 - val_loss: 0.0232\n",
      "Epoch 86/100\n",
      "\u001b[1m3/3\u001b[0m \u001b[32m━━━━━━━━━━━━━━━━━━━━\u001b[0m\u001b[37m\u001b[0m \u001b[1m0s\u001b[0m 53ms/step - accuracy: 0.9584 - loss: 0.1037 - val_accuracy: 1.0000 - val_loss: 0.0223\n",
      "Epoch 87/100\n",
      "\u001b[1m3/3\u001b[0m \u001b[32m━━━━━━━━━━━━━━━━━━━━\u001b[0m\u001b[37m\u001b[0m \u001b[1m0s\u001b[0m 65ms/step - accuracy: 0.9584 - loss: 0.0878 - val_accuracy: 1.0000 - val_loss: 0.0213\n",
      "Epoch 88/100\n",
      "\u001b[1m3/3\u001b[0m \u001b[32m━━━━━━━━━━━━━━━━━━━━\u001b[0m\u001b[37m\u001b[0m \u001b[1m0s\u001b[0m 171ms/step - accuracy: 0.9697 - loss: 0.0889 - val_accuracy: 1.0000 - val_loss: 0.0204\n",
      "Epoch 89/100\n",
      "\u001b[1m3/3\u001b[0m \u001b[32m━━━━━━━━━━━━━━━━━━━━\u001b[0m\u001b[37m\u001b[0m \u001b[1m0s\u001b[0m 57ms/step - accuracy: 0.9354 - loss: 0.0961 - val_accuracy: 1.0000 - val_loss: 0.0203\n",
      "Epoch 90/100\n",
      "\u001b[1m3/3\u001b[0m \u001b[32m━━━━━━━━━━━━━━━━━━━━\u001b[0m\u001b[37m\u001b[0m \u001b[1m0s\u001b[0m 67ms/step - accuracy: 0.9472 - loss: 0.1085 - val_accuracy: 1.0000 - val_loss: 0.0216\n",
      "Epoch 91/100\n",
      "\u001b[1m3/3\u001b[0m \u001b[32m━━━━━━━━━━━━━━━━━━━━\u001b[0m\u001b[37m\u001b[0m \u001b[1m0s\u001b[0m 103ms/step - accuracy: 0.9320 - loss: 0.1158 - val_accuracy: 1.0000 - val_loss: 0.0226\n",
      "Epoch 92/100\n",
      "\u001b[1m3/3\u001b[0m \u001b[32m━━━━━━━━━━━━━━━━━━━━\u001b[0m\u001b[37m\u001b[0m \u001b[1m0s\u001b[0m 79ms/step - accuracy: 1.0000 - loss: 0.0673 - val_accuracy: 1.0000 - val_loss: 0.0244\n",
      "Epoch 93/100\n",
      "\u001b[1m3/3\u001b[0m \u001b[32m━━━━━━━━━━━━━━━━━━━━\u001b[0m\u001b[37m\u001b[0m \u001b[1m0s\u001b[0m 101ms/step - accuracy: 0.9506 - loss: 0.0886 - val_accuracy: 1.0000 - val_loss: 0.0264\n",
      "Epoch 94/100\n",
      "\u001b[1m3/3\u001b[0m \u001b[32m━━━━━━━━━━━━━━━━━━━━\u001b[0m\u001b[37m\u001b[0m \u001b[1m1s\u001b[0m 196ms/step - accuracy: 0.9887 - loss: 0.0791 - val_accuracy: 1.0000 - val_loss: 0.0277\n",
      "Epoch 95/100\n",
      "\u001b[1m3/3\u001b[0m \u001b[32m━━━━━━━━━━━━━━━━━━━━\u001b[0m\u001b[37m\u001b[0m \u001b[1m0s\u001b[0m 79ms/step - accuracy: 0.9775 - loss: 0.0639 - val_accuracy: 1.0000 - val_loss: 0.0272\n",
      "Epoch 96/100\n",
      "\u001b[1m3/3\u001b[0m \u001b[32m━━━━━━━━━━━━━━━━━━━━\u001b[0m\u001b[37m\u001b[0m \u001b[1m0s\u001b[0m 58ms/step - accuracy: 0.9393 - loss: 0.0938 - val_accuracy: 1.0000 - val_loss: 0.0264\n",
      "Epoch 97/100\n",
      "\u001b[1m3/3\u001b[0m \u001b[32m━━━━━━━━━━━━━━━━━━━━\u001b[0m\u001b[37m\u001b[0m \u001b[1m0s\u001b[0m 60ms/step - accuracy: 0.9428 - loss: 0.0978 - val_accuracy: 1.0000 - val_loss: 0.0253\n",
      "Epoch 98/100\n",
      "\u001b[1m3/3\u001b[0m \u001b[32m━━━━━━━━━━━━━━━━━━━━\u001b[0m\u001b[37m\u001b[0m \u001b[1m0s\u001b[0m 76ms/step - accuracy: 0.9432 - loss: 0.1005 - val_accuracy: 1.0000 - val_loss: 0.0245\n",
      "Epoch 99/100\n",
      "\u001b[1m3/3\u001b[0m \u001b[32m━━━━━━━━━━━━━━━━━━━━\u001b[0m\u001b[37m\u001b[0m \u001b[1m0s\u001b[0m 76ms/step - accuracy: 0.9125 - loss: 0.1068 - val_accuracy: 1.0000 - val_loss: 0.0250\n",
      "Epoch 100/100\n",
      "\u001b[1m3/3\u001b[0m \u001b[32m━━━━━━━━━━━━━━━━━━━━\u001b[0m\u001b[37m\u001b[0m \u001b[1m1s\u001b[0m 68ms/step - accuracy: 0.9662 - loss: 0.0613 - val_accuracy: 1.0000 - val_loss: 0.0256\n"
     ]
    }
   ],
   "source": [
    "# Train the model\n",
    "# Train for 100 epochs with a validation split of 20%\n",
    "history = model.fit(X_train, y_train, epochs=100, validation_split=0.2, batch_size=32)"
   ]
  },
  {
   "cell_type": "code",
   "execution_count": 16,
   "id": "14d0c605-1368-4328-937c-f8dd53af5ba5",
   "metadata": {},
   "outputs": [
    {
     "name": "stdout",
     "output_type": "stream",
     "text": [
      "\u001b[1m1/1\u001b[0m \u001b[32m━━━━━━━━━━━━━━━━━━━━\u001b[0m\u001b[37m\u001b[0m \u001b[1m0s\u001b[0m 91ms/step - accuracy: 0.9545 - loss: 0.0538\n",
      "Accuracy on test data: 0.9545454382896423\n"
     ]
    }
   ],
   "source": [
    "# Evaluate the model on test data\n",
    "loss, accuracy = model.evaluate(X_test, y_test)\n",
    "print(f\"Accuracy on test data: {accuracy}\")"
   ]
  },
  {
   "cell_type": "code",
   "execution_count": 17,
   "id": "6dc1215a-c6b7-41ee-a7f5-a5a1c7a7761e",
   "metadata": {},
   "outputs": [
    {
     "name": "stdout",
     "output_type": "stream",
     "text": [
      "\u001b[1m1/1\u001b[0m \u001b[32m━━━━━━━━━━━━━━━━━━━━\u001b[0m\u001b[37m\u001b[0m \u001b[1m0s\u001b[0m 209ms/step\n"
     ]
    }
   ],
   "source": [
    "# Make predictions\n",
    "# Predict the class labels for the test set\n",
    "predictions = (model.predict(X_test) > 0.5).astype(\"int32\")"
   ]
  },
  {
   "cell_type": "code",
   "execution_count": 18,
   "id": "d7b8fa01-e2f6-4cd3-879b-c100212ee571",
   "metadata": {},
   "outputs": [
    {
     "name": "stdout",
     "output_type": "stream",
     "text": [
      "\u001b[1m1/1\u001b[0m \u001b[32m━━━━━━━━━━━━━━━━━━━━\u001b[0m\u001b[37m\u001b[0m \u001b[1m0s\u001b[0m 69ms/step\n",
      "Accuracy Score: 0.9545454545454546\n",
      "Precision Score: 1.0\n",
      "Recall Score: 0.9\n",
      "F1 Score: 0.9473684210526315\n",
      "ROC AUC Score: 1.0\n"
     ]
    }
   ],
   "source": [
    "# Calculate evaluation metrics:\n",
    "# Compute accuracy, precision, recall, F1 score, and ROC AUC score\n",
    "accuracy_score_val = accuracy_score(y_test, predictions)\n",
    "precision_score_val = precision_score(y_test, predictions)\n",
    "recall_score_val = recall_score(y_test, predictions)\n",
    "f1_score_val = f1_score(y_test, predictions)\n",
    "roc_auc_score_val = roc_auc_score(y_test, model.predict(X_test))\n",
    "\n",
    "print(f\"Accuracy Score: {accuracy_score_val}\")\n",
    "print(f\"Precision Score: {precision_score_val}\")\n",
    "print(f\"Recall Score: {recall_score_val}\")\n",
    "print(f\"F1 Score: {f1_score_val}\")\n",
    "print(f\"ROC AUC Score: {roc_auc_score_val}\")"
   ]
  },
  {
   "cell_type": "code",
   "execution_count": 19,
   "id": "7f6783c5",
   "metadata": {},
   "outputs": [
    {
     "data": {
      "image/png": "[encoded data removed]",
      "text/plain": [
       "<Figure size 800x600 with 2 Axes>"
      ]
     },
     "metadata": {},
     "output_type": "display_data"
    }
   ],
   "source": [
    "# Plot the confusion matrix to visualize model performance\n",
    "# Compute the confusion matrix\n",
    "conf_matrix = confusion_matrix(y_test, predictions)\n",
    "\n",
    "# Plot the confusion matrix using Seaborn's heatmap\n",
    "plt.figure(figsize=(8, 6))\n",
    "sns.heatmap(conf_matrix, annot=True, fmt='d', cmap='Blues', \n",
    "            xticklabels=['Predicted Negative', 'Predicted Positive'], \n",
    "            yticklabels=['Actual Negative', 'Actual Positive'])\n",
    "plt.xlabel('Predicted')\n",
    "plt.ylabel('Actual')\n",
    "plt.title('Confusion Matrix')\n",
    "plt.show()"
   ]
  },
  {
   "cell_type": "markdown",
   "id": "8e4b80e0-ce34-47ac-84f0-0bc49bc94e78",
   "metadata": {},
   "source": [
    "### Conclusion\n",
    " This script demonstrates a complete workflow for processing remote sensing data, extracting relevant features, and using them for classification with a neural network.\n",
    " The model successfully distinguishes between healthy and non-healthy vegetation plots, with metrics indicating its performance.\n",
    " Future improvements could involve more advanced techniques for handling class imbalance or exploring other machine learning models."
   ]
  },
  {
   "cell_type": "code",
   "execution_count": null,
   "id": "a0876e25-facd-41d9-98f2-f851359b63a1",
   "metadata": {},
   "outputs": [],
   "source": []
  }
 ],
 "metadata": {
  "kernelspec": {
   "display_name": "Python 3 (ipykernel)",
   "language": "python",
   "name": "python3"
  },
  "language_info": {
   "codemirror_mode": {
    "name": "ipython",
    "version": 3
   },
   "file_extension": ".py",
   "mimetype": "text/x-python",
   "name": "python",
   "nbconvert_exporter": "python",
   "pygments_lexer": "ipython3",
   "version": "3.10.0"
  }
 },
 "nbformat": 4,
 "nbformat_minor": 5
}
